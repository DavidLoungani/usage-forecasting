{
 "cells": [
  {
   "cell_type": "code",
   "execution_count": 1,
   "metadata": {
    "ExecuteTime": {
     "end_time": "2017-07-07T09:54:02.030258Z",
     "start_time": "2017-07-07T09:54:02.013715Z"
    },
    "collapsed": false
   },
   "outputs": [],
   "source": [
    "def getDatabaseConnection():\n",
    "    import os\n",
    "    import yaml\n",
    "    from sqlalchemy import create_engine\n",
    "    db_conn = os.path.join(os.getcwd(), \"db_connections/db_connections.yml\")\n",
    "    with open(db_conn, 'r') as ymlfile:\n",
    "        db_conns = yaml.load(ymlfile)\n",
    "    redshift = db_conns['Redshift']\n",
    "    # megavolt = db_conns['Megavolt']\n",
    "    engine = 'postgresql://{username}:{password}@{host}:{port}/{database}'.format(username=redshift['username'],\n",
    "                                                                                  password=redshift['password'],\n",
    "                                                                                  host=redshift['host'],\n",
    "                                                                                  port=redshift['port'],\n",
    "                                                                                  database=redshift['database'])\n",
    "    conn = create_engine(engine, connect_args={'sslmode': 'require'})\n",
    "    return conn"
   ]
  },
  {
   "cell_type": "code",
   "execution_count": 2,
   "metadata": {
    "ExecuteTime": {
     "end_time": "2017-07-07T09:54:02.486300Z",
     "start_time": "2017-07-07T09:54:02.480786Z"
    },
    "collapsed": false
   },
   "outputs": [],
   "source": [
    "def queryDatabase(conn):\n",
    "    df = pd.read_sql_query(\"select * from ee.david_invoices_weather_matched_4\", con=conn)\n",
    "    return df"
   ]
  },
  {
   "cell_type": "code",
   "execution_count": 3,
   "metadata": {
    "ExecuteTime": {
     "end_time": "2017-07-07T10:00:03.269979Z",
     "start_time": "2017-07-07T09:54:02.944476Z"
    },
    "collapsed": false
   },
   "outputs": [],
   "source": [
    "import pandas as pd\n",
    "df = queryDatabase(getDatabaseConnection())"
   ]
  },
  {
   "cell_type": "code",
   "execution_count": 4,
   "metadata": {
    "ExecuteTime": {
     "end_time": "2017-07-07T10:00:15.162718Z",
     "start_time": "2017-07-07T10:00:15.125117Z"
    },
    "collapsed": false
   },
   "outputs": [],
   "source": [
    "#df['invoicefromdt'] = pd.to_datetime(df['invoicefromdt_timestamp'])\n",
    "#df['invoicetodt'] = pd.to_datetime(df['invoicetodt_timestamp'])"
   ]
  },
  {
   "cell_type": "code",
   "execution_count": 5,
   "metadata": {
    "ExecuteTime": {
     "end_time": "2017-07-07T10:00:23.194966Z",
     "start_time": "2017-07-07T10:00:18.461939Z"
    },
    "collapsed": false
   },
   "outputs": [],
   "source": [
    "slice = df[df['perc_missing'] >= 0.5].copy()\n",
    "slice_2 = df[df['perc_missing'] <= 0.5].copy()\n",
    "slice_3 = df[df['perc_missing'] <= 0.1].copy()"
   ]
  },
  {
   "cell_type": "code",
   "execution_count": 6,
   "metadata": {
    "ExecuteTime": {
     "end_time": "2017-07-07T10:00:43.094868Z",
     "start_time": "2017-07-07T10:00:42.938528Z"
    },
    "collapsed": false
   },
   "outputs": [
    {
     "data": {
      "text/plain": [
       "(1896045, 0.8697425430303606, 0.8219398801188791)"
      ]
     },
     "execution_count": 6,
     "metadata": {},
     "output_type": "execute_result"
    }
   ],
   "source": [
    "len(df), len(slice_2)/len(df), len(slice_3)/len(df)"
   ]
  },
  {
   "cell_type": "code",
   "execution_count": 7,
   "metadata": {
    "ExecuteTime": {
     "end_time": "2017-07-07T10:01:02.677694Z",
     "start_time": "2017-07-07T10:01:02.543723Z"
    },
    "collapsed": false
   },
   "outputs": [],
   "source": [
    "slice_3.reset_index(inplace=True)"
   ]
  },
  {
   "cell_type": "code",
   "execution_count": 8,
   "metadata": {
    "ExecuteTime": {
     "end_time": "2017-07-07T10:01:25.316542Z",
     "start_time": "2017-07-07T10:01:24.252653Z"
    },
    "collapsed": false
   },
   "outputs": [],
   "source": [
    "slice_3.drop('index', axis=1, inplace=True)"
   ]
  },
  {
   "cell_type": "code",
   "execution_count": 9,
   "metadata": {
    "ExecuteTime": {
     "end_time": "2017-07-07T10:01:43.850853Z",
     "start_time": "2017-07-07T10:01:42.378160Z"
    },
    "collapsed": false
   },
   "outputs": [],
   "source": [
    "slice_4 = slice_3[slice_3['avg_kwh_day_over_invoice'] <= 100].copy()\n",
    "#slice_5 = slice_4[slice_4['avg_kwh_day_over_invoice'] >= 8].copy()"
   ]
  },
  {
   "cell_type": "code",
   "execution_count": 10,
   "metadata": {
    "ExecuteTime": {
     "end_time": "2017-07-07T10:02:13.469553Z",
     "start_time": "2017-07-07T10:02:12.884259Z"
    },
    "collapsed": false
   },
   "outputs": [
    {
     "data": {
      "text/plain": [
       "False"
      ]
     },
     "execution_count": 10,
     "metadata": {},
     "output_type": "execute_result"
    }
   ],
   "source": [
    "import numpy as np\n",
    "np.isnan(slice_4['tavg_interval_avg']).any()"
   ]
  },
  {
   "cell_type": "code",
   "execution_count": 11,
   "metadata": {
    "ExecuteTime": {
     "end_time": "2017-07-07T10:02:41.451932Z",
     "start_time": "2017-07-07T10:02:41.389699Z"
    },
    "collapsed": false
   },
   "outputs": [
    {
     "data": {
      "text/plain": [
       "1542090"
      ]
     },
     "execution_count": 11,
     "metadata": {},
     "output_type": "execute_result"
    }
   ],
   "source": [
    "len(slice_4)"
   ]
  },
  {
   "cell_type": "code",
   "execution_count": 12,
   "metadata": {
    "ExecuteTime": {
     "end_time": "2017-07-07T10:03:10.339753Z",
     "start_time": "2017-07-07T10:03:10.261617Z"
    },
    "collapsed": false
   },
   "outputs": [
    {
     "data": {
      "text/plain": [
       "Index(['iethicalid', 'zip', 'invoicefromdt_timestamp', 'invoicetodt_timestamp',\n",
       "       'duration', 'kwh', 'wban', 'dist', 'tavg_interval_sum',\n",
       "       'tavg_interval_avg', 'num_missing', 'tavg_interval_sum_corrected',\n",
       "       'perc_missing', 'avg_kwh_day_over_invoice', 'todt_month', 'todt_day',\n",
       "       'invoice_num', 'kwh_lag', 'kwh_lag_2', 'daily_kwh_lag',\n",
       "       'daily_kwh_lag_2', 'kwh_updating_avg', 'daily_kwh_updating_avg',\n",
       "       'first_date', 'days_passed', 'month_avg_preceding',\n",
       "       'month_avg_preceding_flag'],\n",
       "      dtype='object')"
      ]
     },
     "execution_count": 12,
     "metadata": {},
     "output_type": "execute_result"
    }
   ],
   "source": [
    "slice_4.columns"
   ]
  },
  {
   "cell_type": "code",
   "execution_count": 13,
   "metadata": {
    "ExecuteTime": {
     "end_time": "2017-07-07T10:03:37.199356Z",
     "start_time": "2017-07-07T10:03:36.924687Z"
    },
    "collapsed": false
   },
   "outputs": [
    {
     "data": {
      "text/html": [
       "<div>\n",
       "<style>\n",
       "    .dataframe thead tr:only-child th {\n",
       "        text-align: right;\n",
       "    }\n",
       "\n",
       "    .dataframe thead th {\n",
       "        text-align: left;\n",
       "    }\n",
       "\n",
       "    .dataframe tbody tr th {\n",
       "        vertical-align: top;\n",
       "    }\n",
       "</style>\n",
       "<table border=\"1\" class=\"dataframe\">\n",
       "  <thead>\n",
       "    <tr style=\"text-align: right;\">\n",
       "      <th></th>\n",
       "      <th>iethicalid</th>\n",
       "      <th>zip</th>\n",
       "      <th>invoicefromdt_timestamp</th>\n",
       "      <th>invoicetodt_timestamp</th>\n",
       "      <th>duration</th>\n",
       "      <th>kwh</th>\n",
       "      <th>wban</th>\n",
       "      <th>dist</th>\n",
       "      <th>tavg_interval_sum</th>\n",
       "      <th>tavg_interval_avg</th>\n",
       "      <th>...</th>\n",
       "      <th>kwh_lag</th>\n",
       "      <th>kwh_lag_2</th>\n",
       "      <th>daily_kwh_lag</th>\n",
       "      <th>daily_kwh_lag_2</th>\n",
       "      <th>kwh_updating_avg</th>\n",
       "      <th>daily_kwh_updating_avg</th>\n",
       "      <th>first_date</th>\n",
       "      <th>days_passed</th>\n",
       "      <th>month_avg_preceding</th>\n",
       "      <th>month_avg_preceding_flag</th>\n",
       "    </tr>\n",
       "  </thead>\n",
       "  <tbody>\n",
       "    <tr>\n",
       "      <th>0</th>\n",
       "      <td>3</td>\n",
       "      <td>15212</td>\n",
       "      <td>2013-07-25</td>\n",
       "      <td>2013-08-23</td>\n",
       "      <td>30</td>\n",
       "      <td>384.0</td>\n",
       "      <td>14762</td>\n",
       "      <td>14.855786</td>\n",
       "      <td>2066.0</td>\n",
       "      <td>68.0</td>\n",
       "      <td>...</td>\n",
       "      <td>NaN</td>\n",
       "      <td>NaN</td>\n",
       "      <td>NaN</td>\n",
       "      <td>NaN</td>\n",
       "      <td>NaN</td>\n",
       "      <td>NaN</td>\n",
       "      <td>2013-07-25</td>\n",
       "      <td>29</td>\n",
       "      <td>NaN</td>\n",
       "      <td>0</td>\n",
       "    </tr>\n",
       "    <tr>\n",
       "      <th>1</th>\n",
       "      <td>3</td>\n",
       "      <td>15212</td>\n",
       "      <td>2013-08-24</td>\n",
       "      <td>2013-09-24</td>\n",
       "      <td>32</td>\n",
       "      <td>408.0</td>\n",
       "      <td>14762</td>\n",
       "      <td>14.855786</td>\n",
       "      <td>2140.0</td>\n",
       "      <td>66.0</td>\n",
       "      <td>...</td>\n",
       "      <td>384.0</td>\n",
       "      <td>NaN</td>\n",
       "      <td>12.80</td>\n",
       "      <td>NaN</td>\n",
       "      <td>384.0</td>\n",
       "      <td>12.80</td>\n",
       "      <td>2013-07-25</td>\n",
       "      <td>61</td>\n",
       "      <td>NaN</td>\n",
       "      <td>0</td>\n",
       "    </tr>\n",
       "    <tr>\n",
       "      <th>2</th>\n",
       "      <td>3</td>\n",
       "      <td>15212</td>\n",
       "      <td>2013-09-25</td>\n",
       "      <td>2013-10-23</td>\n",
       "      <td>29</td>\n",
       "      <td>348.0</td>\n",
       "      <td>14762</td>\n",
       "      <td>14.855786</td>\n",
       "      <td>1734.0</td>\n",
       "      <td>59.0</td>\n",
       "      <td>...</td>\n",
       "      <td>408.0</td>\n",
       "      <td>384.0</td>\n",
       "      <td>12.75</td>\n",
       "      <td>12.80</td>\n",
       "      <td>396.0</td>\n",
       "      <td>12.77</td>\n",
       "      <td>2013-07-25</td>\n",
       "      <td>90</td>\n",
       "      <td>NaN</td>\n",
       "      <td>0</td>\n",
       "    </tr>\n",
       "    <tr>\n",
       "      <th>3</th>\n",
       "      <td>3</td>\n",
       "      <td>15212</td>\n",
       "      <td>2013-10-24</td>\n",
       "      <td>2013-11-22</td>\n",
       "      <td>30</td>\n",
       "      <td>372.0</td>\n",
       "      <td>14762</td>\n",
       "      <td>14.855786</td>\n",
       "      <td>1358.0</td>\n",
       "      <td>45.0</td>\n",
       "      <td>...</td>\n",
       "      <td>348.0</td>\n",
       "      <td>408.0</td>\n",
       "      <td>12.00</td>\n",
       "      <td>12.75</td>\n",
       "      <td>380.0</td>\n",
       "      <td>12.51</td>\n",
       "      <td>2013-07-25</td>\n",
       "      <td>120</td>\n",
       "      <td>NaN</td>\n",
       "      <td>0</td>\n",
       "    </tr>\n",
       "    <tr>\n",
       "      <th>4</th>\n",
       "      <td>3</td>\n",
       "      <td>15212</td>\n",
       "      <td>2013-11-23</td>\n",
       "      <td>2013-12-24</td>\n",
       "      <td>32</td>\n",
       "      <td>552.0</td>\n",
       "      <td>14762</td>\n",
       "      <td>14.855786</td>\n",
       "      <td>1074.0</td>\n",
       "      <td>33.0</td>\n",
       "      <td>...</td>\n",
       "      <td>372.0</td>\n",
       "      <td>348.0</td>\n",
       "      <td>12.40</td>\n",
       "      <td>12.00</td>\n",
       "      <td>378.0</td>\n",
       "      <td>12.48</td>\n",
       "      <td>2013-07-25</td>\n",
       "      <td>152</td>\n",
       "      <td>NaN</td>\n",
       "      <td>0</td>\n",
       "    </tr>\n",
       "  </tbody>\n",
       "</table>\n",
       "<p>5 rows × 27 columns</p>\n",
       "</div>"
      ],
      "text/plain": [
       "   iethicalid    zip invoicefromdt_timestamp invoicetodt_timestamp  duration  \\\n",
       "0           3  15212              2013-07-25            2013-08-23        30   \n",
       "1           3  15212              2013-08-24            2013-09-24        32   \n",
       "2           3  15212              2013-09-25            2013-10-23        29   \n",
       "3           3  15212              2013-10-24            2013-11-22        30   \n",
       "4           3  15212              2013-11-23            2013-12-24        32   \n",
       "\n",
       "     kwh   wban       dist  tavg_interval_sum  tavg_interval_avg  \\\n",
       "0  384.0  14762  14.855786             2066.0               68.0   \n",
       "1  408.0  14762  14.855786             2140.0               66.0   \n",
       "2  348.0  14762  14.855786             1734.0               59.0   \n",
       "3  372.0  14762  14.855786             1358.0               45.0   \n",
       "4  552.0  14762  14.855786             1074.0               33.0   \n",
       "\n",
       "             ...             kwh_lag  kwh_lag_2  daily_kwh_lag  \\\n",
       "0            ...                 NaN        NaN            NaN   \n",
       "1            ...               384.0        NaN          12.80   \n",
       "2            ...               408.0      384.0          12.75   \n",
       "3            ...               348.0      408.0          12.00   \n",
       "4            ...               372.0      348.0          12.40   \n",
       "\n",
       "   daily_kwh_lag_2  kwh_updating_avg  daily_kwh_updating_avg  first_date  \\\n",
       "0              NaN               NaN                     NaN  2013-07-25   \n",
       "1              NaN             384.0                   12.80  2013-07-25   \n",
       "2            12.80             396.0                   12.77  2013-07-25   \n",
       "3            12.75             380.0                   12.51  2013-07-25   \n",
       "4            12.00             378.0                   12.48  2013-07-25   \n",
       "\n",
       "   days_passed  month_avg_preceding  month_avg_preceding_flag  \n",
       "0           29                  NaN                         0  \n",
       "1           61                  NaN                         0  \n",
       "2           90                  NaN                         0  \n",
       "3          120                  NaN                         0  \n",
       "4          152                  NaN                         0  \n",
       "\n",
       "[5 rows x 27 columns]"
      ]
     },
     "execution_count": 13,
     "metadata": {},
     "output_type": "execute_result"
    }
   ],
   "source": [
    "slice_4.head()"
   ]
  },
  {
   "cell_type": "code",
   "execution_count": 14,
   "metadata": {
    "ExecuteTime": {
     "end_time": "2017-07-07T10:04:14.563348Z",
     "start_time": "2017-07-07T10:04:09.461429Z"
    },
    "collapsed": false
   },
   "outputs": [],
   "source": [
    "slice_5 = slice_4.sample(frac=1).reset_index(drop=True)\n",
    "slice_5 = slice_5[np.isfinite(slice_5['daily_kwh_lag'])]\n",
    "#slice_5"
   ]
  },
  {
   "cell_type": "code",
   "execution_count": 15,
   "metadata": {
    "ExecuteTime": {
     "end_time": "2017-07-07T10:04:57.395918Z",
     "start_time": "2017-07-07T10:04:57.129800Z"
    },
    "collapsed": false
   },
   "outputs": [
    {
     "data": {
      "text/html": [
       "<div>\n",
       "<style>\n",
       "    .dataframe thead tr:only-child th {\n",
       "        text-align: right;\n",
       "    }\n",
       "\n",
       "    .dataframe thead th {\n",
       "        text-align: left;\n",
       "    }\n",
       "\n",
       "    .dataframe tbody tr th {\n",
       "        vertical-align: top;\n",
       "    }\n",
       "</style>\n",
       "<table border=\"1\" class=\"dataframe\">\n",
       "  <thead>\n",
       "    <tr style=\"text-align: right;\">\n",
       "      <th></th>\n",
       "      <th>iethicalid</th>\n",
       "      <th>zip</th>\n",
       "      <th>invoicefromdt_timestamp</th>\n",
       "      <th>invoicetodt_timestamp</th>\n",
       "      <th>duration</th>\n",
       "      <th>kwh</th>\n",
       "      <th>wban</th>\n",
       "      <th>dist</th>\n",
       "      <th>tavg_interval_sum</th>\n",
       "      <th>tavg_interval_avg</th>\n",
       "      <th>...</th>\n",
       "      <th>kwh_lag</th>\n",
       "      <th>kwh_lag_2</th>\n",
       "      <th>daily_kwh_lag</th>\n",
       "      <th>daily_kwh_lag_2</th>\n",
       "      <th>kwh_updating_avg</th>\n",
       "      <th>daily_kwh_updating_avg</th>\n",
       "      <th>first_date</th>\n",
       "      <th>days_passed</th>\n",
       "      <th>month_avg_preceding</th>\n",
       "      <th>month_avg_preceding_flag</th>\n",
       "    </tr>\n",
       "  </thead>\n",
       "  <tbody>\n",
       "    <tr>\n",
       "      <th>0</th>\n",
       "      <td>106356</td>\n",
       "      <td>16335</td>\n",
       "      <td>2015-06-03</td>\n",
       "      <td>2015-07-01</td>\n",
       "      <td>29</td>\n",
       "      <td>212.0</td>\n",
       "      <td>4843</td>\n",
       "      <td>5.354224</td>\n",
       "      <td>1947.0</td>\n",
       "      <td>67.0</td>\n",
       "      <td>...</td>\n",
       "      <td>275.0</td>\n",
       "      <td>277.0</td>\n",
       "      <td>8.33</td>\n",
       "      <td>9.55</td>\n",
       "      <td>308.000000</td>\n",
       "      <td>10.07</td>\n",
       "      <td>2014-10-01</td>\n",
       "      <td>273</td>\n",
       "      <td>NaN</td>\n",
       "      <td>0</td>\n",
       "    </tr>\n",
       "    <tr>\n",
       "      <th>1</th>\n",
       "      <td>132917</td>\n",
       "      <td>19015</td>\n",
       "      <td>2015-05-26</td>\n",
       "      <td>2015-06-27</td>\n",
       "      <td>33</td>\n",
       "      <td>819.0</td>\n",
       "      <td>13739</td>\n",
       "      <td>13.397960</td>\n",
       "      <td>2503.0</td>\n",
       "      <td>75.0</td>\n",
       "      <td>...</td>\n",
       "      <td>589.0</td>\n",
       "      <td>464.0</td>\n",
       "      <td>19.63</td>\n",
       "      <td>14.50</td>\n",
       "      <td>482.400000</td>\n",
       "      <td>15.78</td>\n",
       "      <td>2014-12-29</td>\n",
       "      <td>180</td>\n",
       "      <td>NaN</td>\n",
       "      <td>0</td>\n",
       "    </tr>\n",
       "    <tr>\n",
       "      <th>2</th>\n",
       "      <td>138333</td>\n",
       "      <td>19512</td>\n",
       "      <td>2016-03-23</td>\n",
       "      <td>2016-04-19</td>\n",
       "      <td>28</td>\n",
       "      <td>294.0</td>\n",
       "      <td>54782</td>\n",
       "      <td>14.020544</td>\n",
       "      <td>1343.0</td>\n",
       "      <td>47.0</td>\n",
       "      <td>...</td>\n",
       "      <td>357.0</td>\n",
       "      <td>432.0</td>\n",
       "      <td>11.15</td>\n",
       "      <td>14.89</td>\n",
       "      <td>549.066667</td>\n",
       "      <td>18.65</td>\n",
       "      <td>2015-01-01</td>\n",
       "      <td>474</td>\n",
       "      <td>12.28</td>\n",
       "      <td>1</td>\n",
       "    </tr>\n",
       "    <tr>\n",
       "      <th>3</th>\n",
       "      <td>126381</td>\n",
       "      <td>19382</td>\n",
       "      <td>2015-07-02</td>\n",
       "      <td>2015-08-03</td>\n",
       "      <td>33</td>\n",
       "      <td>393.0</td>\n",
       "      <td>3761</td>\n",
       "      <td>19.094723</td>\n",
       "      <td>2414.0</td>\n",
       "      <td>73.0</td>\n",
       "      <td>...</td>\n",
       "      <td>340.0</td>\n",
       "      <td>296.0</td>\n",
       "      <td>11.33</td>\n",
       "      <td>9.54</td>\n",
       "      <td>416.571429</td>\n",
       "      <td>13.44</td>\n",
       "      <td>2014-12-04</td>\n",
       "      <td>242</td>\n",
       "      <td>NaN</td>\n",
       "      <td>0</td>\n",
       "    </tr>\n",
       "    <tr>\n",
       "      <th>4</th>\n",
       "      <td>114661</td>\n",
       "      <td>10031</td>\n",
       "      <td>2016-11-14</td>\n",
       "      <td>2016-12-15</td>\n",
       "      <td>32</td>\n",
       "      <td>660.0</td>\n",
       "      <td>94728</td>\n",
       "      <td>5.362459</td>\n",
       "      <td>1404.0</td>\n",
       "      <td>43.0</td>\n",
       "      <td>...</td>\n",
       "      <td>607.0</td>\n",
       "      <td>605.0</td>\n",
       "      <td>18.96</td>\n",
       "      <td>20.16</td>\n",
       "      <td>599.111111</td>\n",
       "      <td>18.95</td>\n",
       "      <td>2014-11-13</td>\n",
       "      <td>763</td>\n",
       "      <td>19.39</td>\n",
       "      <td>1</td>\n",
       "    </tr>\n",
       "  </tbody>\n",
       "</table>\n",
       "<p>5 rows × 27 columns</p>\n",
       "</div>"
      ],
      "text/plain": [
       "   iethicalid    zip invoicefromdt_timestamp invoicetodt_timestamp  duration  \\\n",
       "0      106356  16335              2015-06-03            2015-07-01        29   \n",
       "1      132917  19015              2015-05-26            2015-06-27        33   \n",
       "2      138333  19512              2016-03-23            2016-04-19        28   \n",
       "3      126381  19382              2015-07-02            2015-08-03        33   \n",
       "4      114661  10031              2016-11-14            2016-12-15        32   \n",
       "\n",
       "     kwh   wban       dist  tavg_interval_sum  tavg_interval_avg  \\\n",
       "0  212.0   4843   5.354224             1947.0               67.0   \n",
       "1  819.0  13739  13.397960             2503.0               75.0   \n",
       "2  294.0  54782  14.020544             1343.0               47.0   \n",
       "3  393.0   3761  19.094723             2414.0               73.0   \n",
       "4  660.0  94728   5.362459             1404.0               43.0   \n",
       "\n",
       "             ...             kwh_lag  kwh_lag_2  daily_kwh_lag  \\\n",
       "0            ...               275.0      277.0           8.33   \n",
       "1            ...               589.0      464.0          19.63   \n",
       "2            ...               357.0      432.0          11.15   \n",
       "3            ...               340.0      296.0          11.33   \n",
       "4            ...               607.0      605.0          18.96   \n",
       "\n",
       "   daily_kwh_lag_2  kwh_updating_avg  daily_kwh_updating_avg  first_date  \\\n",
       "0             9.55        308.000000                   10.07  2014-10-01   \n",
       "1            14.50        482.400000                   15.78  2014-12-29   \n",
       "2            14.89        549.066667                   18.65  2015-01-01   \n",
       "3             9.54        416.571429                   13.44  2014-12-04   \n",
       "4            20.16        599.111111                   18.95  2014-11-13   \n",
       "\n",
       "   days_passed  month_avg_preceding  month_avg_preceding_flag  \n",
       "0          273                  NaN                         0  \n",
       "1          180                  NaN                         0  \n",
       "2          474                12.28                         1  \n",
       "3          242                  NaN                         0  \n",
       "4          763                19.39                         1  \n",
       "\n",
       "[5 rows x 27 columns]"
      ]
     },
     "execution_count": 15,
     "metadata": {},
     "output_type": "execute_result"
    }
   ],
   "source": [
    "slice_5.head()"
   ]
  },
  {
   "cell_type": "code",
   "execution_count": 36,
   "metadata": {
    "ExecuteTime": {
     "end_time": "2017-07-07T10:59:23.861451Z",
     "start_time": "2017-07-07T10:59:23.742894Z"
    },
    "collapsed": false
   },
   "outputs": [],
   "source": [
    "#train_columns = ['dist', 'tavg_interval_avg', 'todt_month', 'daily_kwh_lag', 'daily_kwh_lag_2', 'daily_kwh_updating_avg', 'avg']\n",
    "train_columns = ['dist', 'tavg_interval_avg', 'todt_month', 'daily_kwh_lag', 'daily_kwh_updating_avg', 'month_avg_preceding_flag', 'month_avg_preceding', 'invoicenum']\n",
    "target_col = ['avg_kwh_day_over_invoice']\n",
    "filter_columns = ['dist', 'tavg_interval_avg', 'todt_month', 'daily_kwh_lag', 'daily_kwh_updating_avg', 'month_avg_preceding_flag', 'month_avg_preceding', 'avg_kwh_day_over_invoice', 'invoicenum']"
   ]
  },
  {
   "cell_type": "code",
   "execution_count": 37,
   "metadata": {
    "ExecuteTime": {
     "end_time": "2017-07-07T10:59:47.899354Z",
     "start_time": "2017-07-07T10:59:47.657194Z"
    },
    "collapsed": false
   },
   "outputs": [],
   "source": [
    "slice_6 = slice_5.filter(filter_columns)"
   ]
  },
  {
   "cell_type": "code",
   "execution_count": 38,
   "metadata": {
    "ExecuteTime": {
     "end_time": "2017-07-07T11:00:05.763208Z",
     "start_time": "2017-07-07T11:00:05.542909Z"
    },
    "collapsed": false
   },
   "outputs": [
    {
     "data": {
      "text/html": [
       "<div>\n",
       "<style>\n",
       "    .dataframe thead tr:only-child th {\n",
       "        text-align: right;\n",
       "    }\n",
       "\n",
       "    .dataframe thead th {\n",
       "        text-align: left;\n",
       "    }\n",
       "\n",
       "    .dataframe tbody tr th {\n",
       "        vertical-align: top;\n",
       "    }\n",
       "</style>\n",
       "<table border=\"1\" class=\"dataframe\">\n",
       "  <thead>\n",
       "    <tr style=\"text-align: right;\">\n",
       "      <th></th>\n",
       "      <th>dist</th>\n",
       "      <th>tavg_interval_avg</th>\n",
       "      <th>todt_month</th>\n",
       "      <th>daily_kwh_lag</th>\n",
       "      <th>daily_kwh_updating_avg</th>\n",
       "      <th>month_avg_preceding_flag</th>\n",
       "      <th>month_avg_preceding</th>\n",
       "      <th>avg_kwh_day_over_invoice</th>\n",
       "    </tr>\n",
       "  </thead>\n",
       "  <tbody>\n",
       "    <tr>\n",
       "      <th>0</th>\n",
       "      <td>5.354224</td>\n",
       "      <td>67.0</td>\n",
       "      <td>7</td>\n",
       "      <td>8.33</td>\n",
       "      <td>10.07</td>\n",
       "      <td>0</td>\n",
       "      <td>NaN</td>\n",
       "      <td>7.31</td>\n",
       "    </tr>\n",
       "    <tr>\n",
       "      <th>1</th>\n",
       "      <td>13.397960</td>\n",
       "      <td>75.0</td>\n",
       "      <td>6</td>\n",
       "      <td>19.63</td>\n",
       "      <td>15.78</td>\n",
       "      <td>0</td>\n",
       "      <td>NaN</td>\n",
       "      <td>24.81</td>\n",
       "    </tr>\n",
       "    <tr>\n",
       "      <th>2</th>\n",
       "      <td>14.020544</td>\n",
       "      <td>47.0</td>\n",
       "      <td>4</td>\n",
       "      <td>11.15</td>\n",
       "      <td>18.65</td>\n",
       "      <td>1</td>\n",
       "      <td>12.28</td>\n",
       "      <td>10.50</td>\n",
       "    </tr>\n",
       "    <tr>\n",
       "      <th>3</th>\n",
       "      <td>19.094723</td>\n",
       "      <td>73.0</td>\n",
       "      <td>8</td>\n",
       "      <td>11.33</td>\n",
       "      <td>13.44</td>\n",
       "      <td>0</td>\n",
       "      <td>NaN</td>\n",
       "      <td>11.90</td>\n",
       "    </tr>\n",
       "    <tr>\n",
       "      <th>4</th>\n",
       "      <td>5.362459</td>\n",
       "      <td>43.0</td>\n",
       "      <td>12</td>\n",
       "      <td>18.96</td>\n",
       "      <td>18.95</td>\n",
       "      <td>1</td>\n",
       "      <td>19.39</td>\n",
       "      <td>20.62</td>\n",
       "    </tr>\n",
       "  </tbody>\n",
       "</table>\n",
       "</div>"
      ],
      "text/plain": [
       "        dist  tavg_interval_avg  todt_month  daily_kwh_lag  \\\n",
       "0   5.354224               67.0           7           8.33   \n",
       "1  13.397960               75.0           6          19.63   \n",
       "2  14.020544               47.0           4          11.15   \n",
       "3  19.094723               73.0           8          11.33   \n",
       "4   5.362459               43.0          12          18.96   \n",
       "\n",
       "   daily_kwh_updating_avg  month_avg_preceding_flag  month_avg_preceding  \\\n",
       "0                   10.07                         0                  NaN   \n",
       "1                   15.78                         0                  NaN   \n",
       "2                   18.65                         1                12.28   \n",
       "3                   13.44                         0                  NaN   \n",
       "4                   18.95                         1                19.39   \n",
       "\n",
       "   avg_kwh_day_over_invoice  \n",
       "0                      7.31  \n",
       "1                     24.81  \n",
       "2                     10.50  \n",
       "3                     11.90  \n",
       "4                     20.62  "
      ]
     },
     "execution_count": 38,
     "metadata": {},
     "output_type": "execute_result"
    }
   ],
   "source": [
    "slice_6.head()"
   ]
  },
  {
   "cell_type": "code",
   "execution_count": 39,
   "metadata": {
    "ExecuteTime": {
     "end_time": "2017-07-07T11:00:23.611374Z",
     "start_time": "2017-07-07T11:00:23.548867Z"
    },
    "collapsed": false
   },
   "outputs": [],
   "source": [
    "#slice_6.drop('invoicefromdt_timestamp', axis=1, inplace=True)\n",
    "#slice_6.drop('invoicetodt_timestamp', axis=1, inplace=True)\n",
    "#slice_6.drop('first_date', axis=1, inplace=True)"
   ]
  },
  {
   "cell_type": "code",
   "execution_count": 40,
   "metadata": {
    "ExecuteTime": {
     "end_time": "2017-07-07T11:00:42.509265Z",
     "start_time": "2017-07-07T11:00:41.830615Z"
    },
    "collapsed": false
   },
   "outputs": [
    {
     "data": {
      "text/html": [
       "<div>\n",
       "<style>\n",
       "    .dataframe thead tr:only-child th {\n",
       "        text-align: right;\n",
       "    }\n",
       "\n",
       "    .dataframe thead th {\n",
       "        text-align: left;\n",
       "    }\n",
       "\n",
       "    .dataframe tbody tr th {\n",
       "        vertical-align: top;\n",
       "    }\n",
       "</style>\n",
       "<table border=\"1\" class=\"dataframe\">\n",
       "  <thead>\n",
       "    <tr style=\"text-align: right;\">\n",
       "      <th></th>\n",
       "      <th>dist</th>\n",
       "      <th>tavg_interval_avg</th>\n",
       "      <th>todt_month</th>\n",
       "      <th>daily_kwh_lag</th>\n",
       "      <th>daily_kwh_updating_avg</th>\n",
       "      <th>month_avg_preceding_flag</th>\n",
       "      <th>month_avg_preceding</th>\n",
       "      <th>avg_kwh_day_over_invoice</th>\n",
       "    </tr>\n",
       "  </thead>\n",
       "  <tbody>\n",
       "    <tr>\n",
       "      <th>0</th>\n",
       "      <td>5.354224</td>\n",
       "      <td>67.0</td>\n",
       "      <td>7</td>\n",
       "      <td>8.33</td>\n",
       "      <td>10.07</td>\n",
       "      <td>0</td>\n",
       "      <td>0.00</td>\n",
       "      <td>7.31</td>\n",
       "    </tr>\n",
       "    <tr>\n",
       "      <th>1</th>\n",
       "      <td>13.397960</td>\n",
       "      <td>75.0</td>\n",
       "      <td>6</td>\n",
       "      <td>19.63</td>\n",
       "      <td>15.78</td>\n",
       "      <td>0</td>\n",
       "      <td>0.00</td>\n",
       "      <td>24.81</td>\n",
       "    </tr>\n",
       "    <tr>\n",
       "      <th>2</th>\n",
       "      <td>14.020544</td>\n",
       "      <td>47.0</td>\n",
       "      <td>4</td>\n",
       "      <td>11.15</td>\n",
       "      <td>18.65</td>\n",
       "      <td>1</td>\n",
       "      <td>12.28</td>\n",
       "      <td>10.50</td>\n",
       "    </tr>\n",
       "    <tr>\n",
       "      <th>3</th>\n",
       "      <td>19.094723</td>\n",
       "      <td>73.0</td>\n",
       "      <td>8</td>\n",
       "      <td>11.33</td>\n",
       "      <td>13.44</td>\n",
       "      <td>0</td>\n",
       "      <td>0.00</td>\n",
       "      <td>11.90</td>\n",
       "    </tr>\n",
       "    <tr>\n",
       "      <th>4</th>\n",
       "      <td>5.362459</td>\n",
       "      <td>43.0</td>\n",
       "      <td>12</td>\n",
       "      <td>18.96</td>\n",
       "      <td>18.95</td>\n",
       "      <td>1</td>\n",
       "      <td>19.39</td>\n",
       "      <td>20.62</td>\n",
       "    </tr>\n",
       "  </tbody>\n",
       "</table>\n",
       "</div>"
      ],
      "text/plain": [
       "        dist  tavg_interval_avg  todt_month  daily_kwh_lag  \\\n",
       "0   5.354224               67.0           7           8.33   \n",
       "1  13.397960               75.0           6          19.63   \n",
       "2  14.020544               47.0           4          11.15   \n",
       "3  19.094723               73.0           8          11.33   \n",
       "4   5.362459               43.0          12          18.96   \n",
       "\n",
       "   daily_kwh_updating_avg  month_avg_preceding_flag  month_avg_preceding  \\\n",
       "0                   10.07                         0                 0.00   \n",
       "1                   15.78                         0                 0.00   \n",
       "2                   18.65                         1                12.28   \n",
       "3                   13.44                         0                 0.00   \n",
       "4                   18.95                         1                19.39   \n",
       "\n",
       "   avg_kwh_day_over_invoice  \n",
       "0                      7.31  \n",
       "1                     24.81  \n",
       "2                     10.50  \n",
       "3                     11.90  \n",
       "4                     20.62  "
      ]
     },
     "execution_count": 40,
     "metadata": {},
     "output_type": "execute_result"
    }
   ],
   "source": [
    "slice_6.fillna(0, inplace=True)\n",
    "slice_6.head()"
   ]
  },
  {
   "cell_type": "code",
   "execution_count": 41,
   "metadata": {
    "ExecuteTime": {
     "end_time": "2017-07-07T11:01:00.341340Z",
     "start_time": "2017-07-07T11:01:00.294451Z"
    },
    "collapsed": false
   },
   "outputs": [],
   "source": [
    "#from sklearn.ensemble import RandomForestRegressor\n",
    "#from sklearn.preprocessing import Imputer"
   ]
  },
  {
   "cell_type": "code",
   "execution_count": 42,
   "metadata": {
    "ExecuteTime": {
     "end_time": "2017-07-07T11:01:34.091758Z",
     "start_time": "2017-07-07T11:01:34.062652Z"
    },
    "collapsed": false
   },
   "outputs": [],
   "source": [
    "#imp = Imputer(missing_values='NaN', strategy='mean', axis=1)\n",
    "#imp.fit(slice_5['month_avg_preceding'])\n",
    "#new = imp.fit_transform(slice_5)"
   ]
  },
  {
   "cell_type": "code",
   "execution_count": 43,
   "metadata": {
    "ExecuteTime": {
     "end_time": "2017-07-07T11:01:52.563170Z",
     "start_time": "2017-07-07T11:01:52.040367Z"
    },
    "collapsed": false
   },
   "outputs": [],
   "source": [
    "train = slice_6[0:int(len(slice_6)*.666)].copy()\n",
    "test = slice_6[int(len(slice_6)*.666):].copy()"
   ]
  },
  {
   "cell_type": "code",
   "execution_count": 44,
   "metadata": {
    "ExecuteTime": {
     "end_time": "2017-07-07T11:02:12.181143Z",
     "start_time": "2017-07-07T11:02:11.401946Z"
    },
    "collapsed": false
   },
   "outputs": [],
   "source": [
    "train_X = train.as_matrix(columns=train_columns)\n",
    "train_y = train.as_matrix(columns=target_col)\n",
    "test_X = test.as_matrix(columns=train_columns)\n",
    "test_y = test.as_matrix(columns=target_col)"
   ]
  },
  {
   "cell_type": "code",
   "execution_count": 45,
   "metadata": {
    "ExecuteTime": {
     "end_time": "2017-07-07T11:02:28.075406Z",
     "start_time": "2017-07-07T11:02:28.002606Z"
    },
    "collapsed": false
   },
   "outputs": [],
   "source": [
    "from sklearn.ensemble import RandomForestRegressor\n",
    "algo = RandomForestRegressor(n_estimators=150, min_samples_split=2)"
   ]
  },
  {
   "cell_type": "code",
   "execution_count": 46,
   "metadata": {
    "ExecuteTime": {
     "end_time": "2017-07-07T11:02:46.544014Z",
     "start_time": "2017-07-07T11:02:45.746553Z"
    },
    "collapsed": false
   },
   "outputs": [
    {
     "ename": "ValueError",
     "evalue": "Input contains NaN, infinity or a value too large for dtype('float32').",
     "output_type": "error",
     "traceback": [
      "\u001b[0;31m---------------------------------------------------------------------------\u001b[0m",
      "\u001b[0;31mValueError\u001b[0m                                Traceback (most recent call last)",
      "\u001b[0;32m<ipython-input-46-f8d72f3e8e73>\u001b[0m in \u001b[0;36m<module>\u001b[0;34m()\u001b[0m\n\u001b[0;32m----> 1\u001b[0;31m \u001b[0malgo\u001b[0m\u001b[1;33m.\u001b[0m\u001b[0mfit\u001b[0m\u001b[1;33m(\u001b[0m\u001b[0mtrain_X\u001b[0m\u001b[1;33m,\u001b[0m \u001b[0mtrain_y\u001b[0m\u001b[1;33m)\u001b[0m\u001b[1;33m\u001b[0m\u001b[0m\n\u001b[0m",
      "\u001b[0;32mC:\\Users\\Spare Computer\\Anaconda3\\lib\\site-packages\\sklearn\\ensemble\\forest.py\u001b[0m in \u001b[0;36mfit\u001b[0;34m(self, X, y, sample_weight)\u001b[0m\n\u001b[1;32m    245\u001b[0m         \"\"\"\n\u001b[1;32m    246\u001b[0m         \u001b[1;31m# Validate or convert input data\u001b[0m\u001b[1;33m\u001b[0m\u001b[1;33m\u001b[0m\u001b[0m\n\u001b[0;32m--> 247\u001b[0;31m         \u001b[0mX\u001b[0m \u001b[1;33m=\u001b[0m \u001b[0mcheck_array\u001b[0m\u001b[1;33m(\u001b[0m\u001b[0mX\u001b[0m\u001b[1;33m,\u001b[0m \u001b[0maccept_sparse\u001b[0m\u001b[1;33m=\u001b[0m\u001b[1;34m\"csc\"\u001b[0m\u001b[1;33m,\u001b[0m \u001b[0mdtype\u001b[0m\u001b[1;33m=\u001b[0m\u001b[0mDTYPE\u001b[0m\u001b[1;33m)\u001b[0m\u001b[1;33m\u001b[0m\u001b[0m\n\u001b[0m\u001b[1;32m    248\u001b[0m         \u001b[0my\u001b[0m \u001b[1;33m=\u001b[0m \u001b[0mcheck_array\u001b[0m\u001b[1;33m(\u001b[0m\u001b[0my\u001b[0m\u001b[1;33m,\u001b[0m \u001b[0maccept_sparse\u001b[0m\u001b[1;33m=\u001b[0m\u001b[1;34m'csc'\u001b[0m\u001b[1;33m,\u001b[0m \u001b[0mensure_2d\u001b[0m\u001b[1;33m=\u001b[0m\u001b[1;32mFalse\u001b[0m\u001b[1;33m,\u001b[0m \u001b[0mdtype\u001b[0m\u001b[1;33m=\u001b[0m\u001b[1;32mNone\u001b[0m\u001b[1;33m)\u001b[0m\u001b[1;33m\u001b[0m\u001b[0m\n\u001b[1;32m    249\u001b[0m         \u001b[1;32mif\u001b[0m \u001b[0missparse\u001b[0m\u001b[1;33m(\u001b[0m\u001b[0mX\u001b[0m\u001b[1;33m)\u001b[0m\u001b[1;33m:\u001b[0m\u001b[1;33m\u001b[0m\u001b[0m\n",
      "\u001b[0;32mC:\\Users\\Spare Computer\\Anaconda3\\lib\\site-packages\\sklearn\\utils\\validation.py\u001b[0m in \u001b[0;36mcheck_array\u001b[0;34m(array, accept_sparse, dtype, order, copy, force_all_finite, ensure_2d, allow_nd, ensure_min_samples, ensure_min_features, warn_on_dtype, estimator)\u001b[0m\n\u001b[1;32m    405\u001b[0m                              % (array.ndim, estimator_name))\n\u001b[1;32m    406\u001b[0m         \u001b[1;32mif\u001b[0m \u001b[0mforce_all_finite\u001b[0m\u001b[1;33m:\u001b[0m\u001b[1;33m\u001b[0m\u001b[0m\n\u001b[0;32m--> 407\u001b[0;31m             \u001b[0m_assert_all_finite\u001b[0m\u001b[1;33m(\u001b[0m\u001b[0marray\u001b[0m\u001b[1;33m)\u001b[0m\u001b[1;33m\u001b[0m\u001b[0m\n\u001b[0m\u001b[1;32m    408\u001b[0m \u001b[1;33m\u001b[0m\u001b[0m\n\u001b[1;32m    409\u001b[0m     \u001b[0mshape_repr\u001b[0m \u001b[1;33m=\u001b[0m \u001b[0m_shape_repr\u001b[0m\u001b[1;33m(\u001b[0m\u001b[0marray\u001b[0m\u001b[1;33m.\u001b[0m\u001b[0mshape\u001b[0m\u001b[1;33m)\u001b[0m\u001b[1;33m\u001b[0m\u001b[0m\n",
      "\u001b[0;32mC:\\Users\\Spare Computer\\Anaconda3\\lib\\site-packages\\sklearn\\utils\\validation.py\u001b[0m in \u001b[0;36m_assert_all_finite\u001b[0;34m(X)\u001b[0m\n\u001b[1;32m     56\u001b[0m             and not np.isfinite(X).all()):\n\u001b[1;32m     57\u001b[0m         raise ValueError(\"Input contains NaN, infinity\"\n\u001b[0;32m---> 58\u001b[0;31m                          \" or a value too large for %r.\" % X.dtype)\n\u001b[0m\u001b[1;32m     59\u001b[0m \u001b[1;33m\u001b[0m\u001b[0m\n\u001b[1;32m     60\u001b[0m \u001b[1;33m\u001b[0m\u001b[0m\n",
      "\u001b[0;31mValueError\u001b[0m: Input contains NaN, infinity or a value too large for dtype('float32')."
     ]
    }
   ],
   "source": [
    "algo.fit(train_X, train_y)"
   ]
  },
  {
   "cell_type": "code",
   "execution_count": null,
   "metadata": {
    "ExecuteTime": {
     "end_time": "2017-07-07T11:02:46.546069Z",
     "start_time": "2017-07-07T14:59:40.810Z"
    },
    "collapsed": false
   },
   "outputs": [],
   "source": [
    "print('done')"
   ]
  },
  {
   "cell_type": "code",
   "execution_count": 27,
   "metadata": {
    "ExecuteTime": {
     "end_time": "2017-07-07T10:39:18.941802Z",
     "start_time": "2017-07-07T10:36:13.096675Z"
    },
    "collapsed": false
   },
   "outputs": [],
   "source": [
    "preds = algo.predict(test_X)\n",
    "preds = preds.reshape(len(preds), 1)"
   ]
  },
  {
   "cell_type": "code",
   "execution_count": 28,
   "metadata": {
    "ExecuteTime": {
     "end_time": "2017-07-07T10:40:12.770376Z",
     "start_time": "2017-07-07T10:40:12.489096Z"
    },
    "collapsed": false
   },
   "outputs": [],
   "source": [
    "err_list = test_y - preds"
   ]
  },
  {
   "cell_type": "code",
   "execution_count": 31,
   "metadata": {
    "ExecuteTime": {
     "end_time": "2017-07-07T10:42:17.672973Z",
     "start_time": "2017-07-07T10:42:17.660972Z"
    },
    "collapsed": false
   },
   "outputs": [],
   "source": [
    "import math"
   ]
  },
  {
   "cell_type": "code",
   "execution_count": 32,
   "metadata": {
    "ExecuteTime": {
     "end_time": "2017-07-07T10:43:00.458116Z",
     "start_time": "2017-07-07T10:43:00.044816Z"
    },
    "collapsed": false
   },
   "outputs": [],
   "source": [
    "err_list_abs = list(map(lambda x: math.fabs(x), err_list))"
   ]
  },
  {
   "cell_type": "code",
   "execution_count": 33,
   "metadata": {
    "ExecuteTime": {
     "end_time": "2017-07-07T10:43:58.018312Z",
     "start_time": "2017-07-07T10:43:57.815956Z"
    },
    "collapsed": false
   },
   "outputs": [
    {
     "data": {
      "text/plain": [
       "3.9412497960256583"
      ]
     },
     "execution_count": 33,
     "metadata": {},
     "output_type": "execute_result"
    }
   ],
   "source": [
    "sum(err_list_abs)/len(preds)"
   ]
  },
  {
   "cell_type": "code",
   "execution_count": 34,
   "metadata": {
    "ExecuteTime": {
     "end_time": "2017-07-07T10:44:48.155022Z",
     "start_time": "2017-07-07T10:44:47.873742Z"
    },
    "collapsed": false
   },
   "outputs": [
    {
     "data": {
      "text/plain": [
       "0.20447977856278779"
      ]
     },
     "execution_count": 34,
     "metadata": {},
     "output_type": "execute_result"
    }
   ],
   "source": [
    "(sum(err_list_abs)/len(preds))/np.average(test_y)"
   ]
  },
  {
   "cell_type": "code",
   "execution_count": null,
   "metadata": {
    "collapsed": false
   },
   "outputs": [],
   "source": []
  },
  {
   "cell_type": "code",
   "execution_count": null,
   "metadata": {
    "collapsed": false
   },
   "outputs": [],
   "source": []
  },
  {
   "cell_type": "code",
   "execution_count": null,
   "metadata": {
    "ExecuteTime": {
     "end_time": "2017-07-07T10:45:36.892791Z",
     "start_time": "2017-07-07T10:45:36.814649Z"
    },
    "collapsed": false
   },
   "outputs": [],
   "source": []
  },
  {
   "cell_type": "code",
   "execution_count": null,
   "metadata": {
    "ExecuteTime": {
     "end_time": "2017-07-06T11:39:41.991936Z",
     "start_time": "2017-07-06T11:39:41.969259Z"
    },
    "collapsed": false
   },
   "outputs": [],
   "source": [
    "param_grid = {\"n_estimators\" : [150, 200]}"
   ]
  },
  {
   "cell_type": "code",
   "execution_count": null,
   "metadata": {
    "ExecuteTime": {
     "end_time": "2017-07-06T11:39:57.505526Z",
     "start_time": "2017-07-06T11:39:57.458634Z"
    },
    "collapsed": false
   },
   "outputs": [],
   "source": [
    "algo_2 = RandomForestRegressor(random_state=30)"
   ]
  },
  {
   "cell_type": "code",
   "execution_count": null,
   "metadata": {
    "ExecuteTime": {
     "end_time": "2017-07-06T11:40:11.658967Z",
     "start_time": "2017-07-06T11:40:11.609550Z"
    },
    "collapsed": false
   },
   "outputs": [],
   "source": [
    "grid_search = GridSearchCV(algo_2, param_grid, n_jobs=1, cv=5)"
   ]
  },
  {
   "cell_type": "code",
   "execution_count": null,
   "metadata": {
    "ExecuteTime": {
     "end_time": "2017-07-06T15:03:09.165584Z",
     "start_time": "2017-07-06T11:40:26.432136Z"
    },
    "collapsed": false,
    "scrolled": true
   },
   "outputs": [],
   "source": [
    "grid_search.fit(train_X, train_y)"
   ]
  },
  {
   "cell_type": "code",
   "execution_count": null,
   "metadata": {
    "ExecuteTime": {
     "end_time": "2017-07-06T15:03:36.506715Z",
     "start_time": "2017-07-06T15:03:36.444128Z"
    },
    "collapsed": false
   },
   "outputs": [],
   "source": [
    "print(grid_search.best_params_)"
   ]
  },
  {
   "cell_type": "code",
   "execution_count": null,
   "metadata": {
    "collapsed": false
   },
   "outputs": [],
   "source": []
  },
  {
   "cell_type": "code",
   "execution_count": null,
   "metadata": {
    "collapsed": false
   },
   "outputs": [],
   "source": [
    "from sklearn.ensemble import RandomForestRegressor"
   ]
  },
  {
   "cell_type": "code",
   "execution_count": null,
   "metadata": {
    "ExecuteTime": {
     "end_time": "2017-07-06T15:44:28.677924Z",
     "start_time": "2017-07-06T15:44:28.663092Z"
    },
    "collapsed": false
   },
   "outputs": [],
   "source": [
    "import math"
   ]
  },
  {
   "cell_type": "code",
   "execution_count": null,
   "metadata": {
    "collapsed": false
   },
   "outputs": [],
   "source": [
    "algo_n150 = RandomForestRegressor(n_estimators=150, min_samples_split=2)\n",
    "algo_n150.fit(train_X, train_y)\n",
    "preds = algo_n150.predict(test_X)"
   ]
  },
  {
   "cell_type": "code",
   "execution_count": null,
   "metadata": {
    "ExecuteTime": {
     "end_time": "2017-07-06T15:42:21.677066Z",
     "start_time": "2017-07-06T15:42:21.622661Z"
    },
    "collapsed": false
   },
   "outputs": [],
   "source": [
    "preds = preds.reshape(len(preds), 1)"
   ]
  },
  {
   "cell_type": "code",
   "execution_count": null,
   "metadata": {
    "ExecuteTime": {
     "end_time": "2017-07-06T15:42:55.076510Z",
     "start_time": "2017-07-06T15:42:54.399209Z"
    },
    "collapsed": false
   },
   "outputs": [],
   "source": [
    "err_list = test_y - preds"
   ]
  },
  {
   "cell_type": "code",
   "execution_count": null,
   "metadata": {
    "ExecuteTime": {
     "end_time": "2017-07-06T15:45:01.610202Z",
     "start_time": "2017-07-06T15:45:00.740177Z"
    },
    "collapsed": false
   },
   "outputs": [],
   "source": [
    "err_list_abs = list(map(lambda x: math.fabs(x), err_list))\n",
    "print(sum(err_list_abs)/len(preds))"
   ]
  },
  {
   "cell_type": "code",
   "execution_count": null,
   "metadata": {
    "ExecuteTime": {
     "end_time": "2017-07-06T15:55:09.577793Z",
     "start_time": "2017-07-06T15:45:34.117070Z"
    },
    "collapsed": false
   },
   "outputs": [],
   "source": [
    "algo_n200 = RandomForestRegressor(n_estimators=200, min_samples_split=2)\n",
    "algo_n200.fit(train_X, train_y)\n",
    "preds = algo_n200.predict(test_X)\n",
    "preds = preds.reshape(len(preds), 1)\n",
    "err_list = test_y - preds\n",
    "err_list_abs = list(map(lambda x: math.fabs(x), err_list))\n",
    "print(sum(err_list_abs)/len(preds))"
   ]
  },
  {
   "cell_type": "code",
   "execution_count": null,
   "metadata": {
    "collapsed": false
   },
   "outputs": [],
   "source": []
  },
  {
   "cell_type": "code",
   "execution_count": null,
   "metadata": {
    "collapsed": false
   },
   "outputs": [],
   "source": []
  },
  {
   "cell_type": "code",
   "execution_count": null,
   "metadata": {
    "collapsed": false
   },
   "outputs": [],
   "source": []
  },
  {
   "cell_type": "code",
   "execution_count": null,
   "metadata": {
    "collapsed": false
   },
   "outputs": [],
   "source": []
  },
  {
   "cell_type": "code",
   "execution_count": null,
   "metadata": {
    "collapsed": false
   },
   "outputs": [],
   "source": []
  },
  {
   "cell_type": "code",
   "execution_count": null,
   "metadata": {
    "collapsed": false
   },
   "outputs": [],
   "source": []
  },
  {
   "cell_type": "code",
   "execution_count": null,
   "metadata": {
    "ExecuteTime": {
     "end_time": "2017-06-30T11:31:45.036950Z",
     "start_time": "2017-06-30T11:31:44.967757Z"
    },
    "collapsed": false
   },
   "outputs": [],
   "source": [
    "test['predicted_daily_kwh'] = preds"
   ]
  },
  {
   "cell_type": "code",
   "execution_count": null,
   "metadata": {
    "ExecuteTime": {
     "end_time": "2017-06-30T11:32:49.450663Z",
     "start_time": "2017-06-30T11:32:49.236091Z"
    },
    "collapsed": false
   },
   "outputs": [],
   "source": [
    "test[['avg_kwh_day_over_invoice', 'predicted_daily_kwh']]"
   ]
  },
  {
   "cell_type": "code",
   "execution_count": null,
   "metadata": {
    "ExecuteTime": {
     "end_time": "2017-06-30T11:34:15.449518Z",
     "start_time": "2017-06-30T11:34:08.927218Z"
    },
    "collapsed": false
   },
   "outputs": [],
   "source": [
    "plt.figure(figsize=(15,4))\n",
    "plt.plot(test['invoicetodt'], test['avg_kwh_day_over_invoice'], \"o\", color='blue', alpha = 0.1)\n",
    "plt.plot(test['invoicetodt'], test['predicted_daily_kwh'], \"o\", color='pink', alpha = 0.1)\n",
    "plt.legend(loc='best')\n",
    "plt.show()"
   ]
  },
  {
   "cell_type": "code",
   "execution_count": null,
   "metadata": {
    "ExecuteTime": {
     "end_time": "2017-06-30T11:34:50.758656Z",
     "start_time": "2017-06-30T11:34:42.781998Z"
    },
    "collapsed": false
   },
   "outputs": [],
   "source": [
    "plt.figure(figsize=(15,4))\n",
    "plt.plot(test.index, test['avg_kwh_day_over_invoice'], \"o\", color='blue', alpha = 0.1)\n",
    "plt.plot(test.index, test['predicted_daily_kwh'], \"o\", color='pink', alpha = 0.1)\n",
    "plt.legend(loc='best')\n",
    "plt.show()"
   ]
  },
  {
   "cell_type": "code",
   "execution_count": null,
   "metadata": {
    "ExecuteTime": {
     "end_time": "2017-06-30T11:47:40.982562Z",
     "start_time": "2017-06-30T11:47:40.958383Z"
    },
    "collapsed": false
   },
   "outputs": [],
   "source": [
    "test['avg_kwh_day_over_invoice'][test.index[0]]"
   ]
  },
  {
   "cell_type": "code",
   "execution_count": null,
   "metadata": {
    "ExecuteTime": {
     "end_time": "2017-06-30T11:53:02.206738Z",
     "start_time": "2017-06-30T11:53:02.174438Z"
    },
    "collapsed": false
   },
   "outputs": [],
   "source": [
    "import plotly.plotly as py\n",
    "from plotly.graph_objs import *"
   ]
  },
  {
   "cell_type": "code",
   "execution_count": null,
   "metadata": {
    "ExecuteTime": {
     "end_time": "2017-06-30T11:52:33.202115Z",
     "start_time": "2017-06-30T11:52:31.354081Z"
    },
    "collapsed": false
   },
   "outputs": [],
   "source": [
    "alpha = plt.figure()\n",
    "plt.plot(test['invoicetodt'], test['avg_kwh_day_over_invoice'], \"o\", color='blue', alpha = 0.1)"
   ]
  },
  {
   "cell_type": "code",
   "execution_count": null,
   "metadata": {
    "ExecuteTime": {
     "end_time": "2017-06-30T12:01:13.713885Z",
     "start_time": "2017-06-30T12:01:13.708369Z"
    },
    "collapsed": false
   },
   "outputs": [],
   "source": [
    "import plotly.plotly as py\n",
    "import plotly.graph_objs as go"
   ]
  },
  {
   "cell_type": "code",
   "execution_count": null,
   "metadata": {
    "ExecuteTime": {
     "end_time": "2017-06-30T12:01:44.545043Z",
     "start_time": "2017-06-30T12:01:44.486042Z"
    },
    "collapsed": false
   },
   "outputs": [],
   "source": [
    "trace = go.Scatter(\n",
    "    x = test['invoicetodt'],\n",
    "    y = test['avg_kwh_day_over_invoice'],\n",
    "    mode = 'markers'\n",
    ")"
   ]
  },
  {
   "cell_type": "code",
   "execution_count": null,
   "metadata": {
    "ExecuteTime": {
     "end_time": "2017-06-30T12:02:15.589211Z",
     "start_time": "2017-06-30T12:02:15.560631Z"
    },
    "collapsed": false
   },
   "outputs": [],
   "source": [
    "data = [trace]"
   ]
  },
  {
   "cell_type": "code",
   "execution_count": null,
   "metadata": {
    "ExecuteTime": {
     "end_time": "2017-06-30T12:07:59.292676Z",
     "start_time": "2017-06-30T12:07:59.288662Z"
    },
    "collapsed": false
   },
   "outputs": [],
   "source": [
    "import plotly"
   ]
  },
  {
   "cell_type": "code",
   "execution_count": null,
   "metadata": {
    "ExecuteTime": {
     "end_time": "2017-06-30T12:08:31.354794Z",
     "start_time": "2017-06-30T12:08:31.066443Z"
    },
    "collapsed": false
   },
   "outputs": [],
   "source": [
    "plotly.offline.iplot(data, filename='basic-scatter')"
   ]
  },
  {
   "cell_type": "code",
   "execution_count": null,
   "metadata": {
    "ExecuteTime": {
     "end_time": "2017-06-30T12:12:15.391137Z",
     "start_time": "2017-06-30T12:12:15.310888Z"
    },
    "collapsed": false
   },
   "outputs": [],
   "source": [
    "pred_frame = test[['avg_kwh_day_over_invoice', 'predicted_daily_kwh']]"
   ]
  },
  {
   "cell_type": "code",
   "execution_count": null,
   "metadata": {
    "ExecuteTime": {
     "end_time": "2017-06-30T12:15:53.970354Z",
     "start_time": "2017-06-30T12:15:53.958662Z"
    },
    "collapsed": false
   },
   "outputs": [],
   "source": [
    "pred_frame.head()"
   ]
  },
  {
   "cell_type": "code",
   "execution_count": null,
   "metadata": {
    "ExecuteTime": {
     "end_time": "2017-06-30T12:14:29.560894Z",
     "start_time": "2017-06-30T12:14:28.836341Z"
    },
    "collapsed": false
   },
   "outputs": [],
   "source": [
    "pred_frame['abs_error'] = err_list_abs"
   ]
  },
  {
   "cell_type": "code",
   "execution_count": null,
   "metadata": {
    "ExecuteTime": {
     "end_time": "2017-06-30T12:15:34.035211Z",
     "start_time": "2017-06-30T12:15:33.850697Z"
    },
    "collapsed": false
   },
   "outputs": [],
   "source": [
    "err_list_sq = list(map(lambda x: x*x, err_list_abs))"
   ]
  },
  {
   "cell_type": "code",
   "execution_count": null,
   "metadata": {
    "ExecuteTime": {
     "end_time": "2017-06-30T12:15:45.886941Z",
     "start_time": "2017-06-30T12:15:45.057189Z"
    },
    "collapsed": false
   },
   "outputs": [],
   "source": [
    "pred_frame['sq_error'] = err_list_sq"
   ]
  },
  {
   "cell_type": "code",
   "execution_count": null,
   "metadata": {
    "ExecuteTime": {
     "end_time": "2017-06-30T12:17:00.643416Z",
     "start_time": "2017-06-30T12:17:00.617848Z"
    },
    "collapsed": false
   },
   "outputs": [],
   "source": [
    "math.sqrt(np.average(pred_frame['sq_error']))"
   ]
  },
  {
   "cell_type": "code",
   "execution_count": null,
   "metadata": {
    "ExecuteTime": {
     "end_time": "2017-06-30T12:20:43.536534Z",
     "start_time": "2017-06-30T12:20:43.516721Z"
    },
    "collapsed": false
   },
   "outputs": [],
   "source": [
    "trace = go.Scatter(\n",
    "    x = pred_frame['avg_kwh_day_over_invoice'],\n",
    "    y = pred_frame['abs_error'],\n",
    "    mode = 'markers'\n",
    ")"
   ]
  },
  {
   "cell_type": "code",
   "execution_count": null,
   "metadata": {
    "ExecuteTime": {
     "end_time": "2017-06-30T12:20:58.165921Z",
     "start_time": "2017-06-30T12:20:58.160907Z"
    },
    "collapsed": false
   },
   "outputs": [],
   "source": [
    "data = [trace]"
   ]
  },
  {
   "cell_type": "code",
   "execution_count": null,
   "metadata": {
    "ExecuteTime": {
     "end_time": "2017-06-30T12:40:53.252395Z",
     "start_time": "2017-06-30T12:40:53.226354Z"
    },
    "collapsed": false
   },
   "outputs": [],
   "source": [
    "#plotly.offline.iplot(data, filename='basic-scatter')"
   ]
  },
  {
   "cell_type": "code",
   "execution_count": null,
   "metadata": {
    "ExecuteTime": {
     "end_time": "2017-06-30T12:53:48.956407Z",
     "start_time": "2017-06-30T12:53:44.671793Z"
    },
    "collapsed": false
   },
   "outputs": [],
   "source": [
    "x = pred_frame['avg_kwh_day_over_invoice']\n",
    "y = pred_frame['abs_error']\n",
    "plt.figure(figsize=(15,4))\n",
    "plt.plot(x, y, \"o\", color='red', alpha = 0.1)\n",
    "plt.legend(loc='best')\n",
    "plt.show()"
   ]
  },
  {
   "cell_type": "code",
   "execution_count": null,
   "metadata": {
    "ExecuteTime": {
     "end_time": "2017-06-30T12:43:11.672038Z",
     "start_time": "2017-06-30T12:43:10.424252Z"
    },
    "collapsed": false
   },
   "outputs": [],
   "source": [
    "pred_frame['error'] = err_list"
   ]
  },
  {
   "cell_type": "code",
   "execution_count": null,
   "metadata": {
    "ExecuteTime": {
     "end_time": "2017-06-30T12:47:42.941864Z",
     "start_time": "2017-06-30T12:47:40.922629Z"
    },
    "collapsed": false
   },
   "outputs": [],
   "source": [
    "plt.figure(figsize=(15,4))\n",
    "x = pred_frame['avg_kwh_day_over_invoice']\n",
    "y = pred_frame['error']\n",
    "plt.plot(x, y, \"o\", color='blue', alpha = 0.1)\n",
    "\n",
    "plt.legend(loc='best')\n",
    "plt.show()"
   ]
  },
  {
   "cell_type": "code",
   "execution_count": null,
   "metadata": {
    "ExecuteTime": {
     "end_time": "2017-06-30T12:53:28.841743Z",
     "start_time": "2017-06-30T12:53:25.989446Z"
    },
    "collapsed": false
   },
   "outputs": [],
   "source": [
    "x = pred_frame['avg_kwh_day_over_invoice']\n",
    "y = pred_frame['sq_error']\n",
    "plt.figure(figsize=(15,4))\n",
    "plt.plot(x, y, \"o\", color='yellow', alpha = 0.01)\n",
    "plt.legend(loc='best')\n",
    "plt.show()"
   ]
  },
  {
   "cell_type": "code",
   "execution_count": null,
   "metadata": {
    "ExecuteTime": {
     "end_time": "2017-06-30T12:49:35.783149Z",
     "start_time": "2017-06-30T12:49:28.733285Z"
    },
    "collapsed": false
   },
   "outputs": [],
   "source": [
    "plt.figure(figsize=(15,4))\n",
    "x = pred_frame['avg_kwh_day_over_invoice']\n",
    "\n",
    "y = pred_frame['sq_error']\n",
    "plt.plot(x, y, \"o\", color='yellow', alpha = 0.01)\n",
    "\n",
    "y = pred_frame['abs_error']\n",
    "plt.plot(x, y, \"o\", color='red', alpha = 0.01)\n",
    "y = pred_frame['error']\n",
    "plt.plot(x, y, \"o\", color='blue', alpha = 0.01)\n",
    "\n",
    "plt.axis([0, 100, -160, 160])\n",
    "plt.legend(loc='best')\n",
    "plt.show()"
   ]
  },
  {
   "cell_type": "code",
   "execution_count": null,
   "metadata": {
    "ExecuteTime": {
     "end_time": "2017-06-30T12:54:34.486635Z",
     "start_time": "2017-06-30T12:54:34.480618Z"
    },
    "collapsed": false
   },
   "outputs": [],
   "source": [
    "import seaborn as sns"
   ]
  },
  {
   "cell_type": "code",
   "execution_count": null,
   "metadata": {
    "ExecuteTime": {
     "end_time": "2017-06-30T12:55:23.898462Z",
     "start_time": "2017-06-30T12:55:23.312393Z"
    },
    "collapsed": false
   },
   "outputs": [],
   "source": [
    "x = pred_frame['avg_kwh_day_over_invoice']\n",
    "sns.distplot(x)"
   ]
  },
  {
   "cell_type": "code",
   "execution_count": null,
   "metadata": {
    "ExecuteTime": {
     "end_time": "2017-06-30T12:55:53.164290Z",
     "start_time": "2017-06-30T12:55:53.152289Z"
    },
    "collapsed": false
   },
   "outputs": [],
   "source": [
    "test.columns"
   ]
  },
  {
   "cell_type": "code",
   "execution_count": null,
   "metadata": {
    "ExecuteTime": {
     "end_time": "2017-06-30T12:56:26.674565Z",
     "start_time": "2017-06-30T12:56:26.008933Z"
    },
    "collapsed": false
   },
   "outputs": [],
   "source": [
    "x = test['tavg_interval_avg']\n",
    "sns.distplot(x)"
   ]
  },
  {
   "cell_type": "code",
   "execution_count": null,
   "metadata": {
    "ExecuteTime": {
     "end_time": "2017-06-30T12:58:37.589216Z",
     "start_time": "2017-06-30T12:58:30.699387Z"
    },
    "collapsed": false
   },
   "outputs": [],
   "source": [
    "sns.jointplot(x='avg_kwh_day_over_invoice', y='tavg_interval_avg', data=test);"
   ]
  },
  {
   "cell_type": "code",
   "execution_count": null,
   "metadata": {
    "ExecuteTime": {
     "end_time": "2017-06-30T13:00:09.759763Z",
     "start_time": "2017-06-30T13:00:07.272529Z"
    },
    "collapsed": false
   },
   "outputs": [],
   "source": [
    "x = test['avg_kwh_day_over_invoice']\n",
    "y = test['tavg_interval_avg']\n",
    "with sns.axes_style(\"white\"):\n",
    "    sns.jointplot(x=x, y=y, kind=\"hex\", color=\"k\");"
   ]
  },
  {
   "cell_type": "code",
   "execution_count": null,
   "metadata": {
    "ExecuteTime": {
     "end_time": "2017-06-30T13:24:45.658870Z",
     "start_time": "2017-06-30T13:15:24.380885Z"
    },
    "collapsed": false
   },
   "outputs": [],
   "source": [
    "sns.jointplot(x='tavg_interval_avg', y='avg_kwh_day_over_invoice', data=test, kind='kde');"
   ]
  },
  {
   "cell_type": "code",
   "execution_count": null,
   "metadata": {
    "collapsed": false
   },
   "outputs": [],
   "source": []
  }
 ],
 "metadata": {
  "kernelspec": {
   "display_name": "Python 3",
   "language": "python",
   "name": "python3"
  },
  "language_info": {
   "codemirror_mode": {
    "name": "ipython",
    "version": 3
   },
   "file_extension": ".py",
   "mimetype": "text/x-python",
   "name": "python",
   "nbconvert_exporter": "python",
   "pygments_lexer": "ipython3",
   "version": "3.6.0"
  },
  "varInspector": {
   "cols": {
    "lenName": 16,
    "lenType": 16,
    "lenVar": 40
   },
   "kernels_config": {
    "python": {
     "delete_cmd_postfix": "",
     "delete_cmd_prefix": "del ",
     "library": "var_list.py",
     "varRefreshCmd": "print(var_dic_list())"
    },
    "r": {
     "delete_cmd_postfix": ") ",
     "delete_cmd_prefix": "rm(",
     "library": "var_list.r",
     "varRefreshCmd": "cat(var_dic_list()) "
    }
   },
   "types_to_exclude": [
    "module",
    "function",
    "builtin_function_or_method",
    "instance",
    "_Feature"
   ],
   "window_display": false
  }
 },
 "nbformat": 4,
 "nbformat_minor": 2
}
